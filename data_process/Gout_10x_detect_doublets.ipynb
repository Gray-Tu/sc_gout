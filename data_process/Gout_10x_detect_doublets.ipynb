{
 "cells": [
  {
   "cell_type": "code",
   "execution_count": 1,
   "metadata": {},
   "outputs": [],
   "source": [
    "import numpy as np\n",
    "import pandas as pd\n",
    "import scanpy as sc\n",
    "import scrublet as scr"
   ]
  },
  {
   "cell_type": "code",
   "execution_count": 5,
   "metadata": {},
   "outputs": [],
   "source": [
    "# case01\n",
    "c1_a_g72data = \"/DATA1/ByProject_out/20210525_10xscRNA_Gray/Novaseq_20200609_10x/counting/Gout72_counts/outs/filtered_feature_bc_matrix\"\n",
    "c1_b_g74data = \"/DATA1/ByProject_out/20210525_10xscRNA_Gray/Novaseq_20200609_10x/counting/Gout74_counts/outs/filtered_feature_bc_matrix\"\n",
    "c1_c_g98data = \"/DATA1/ByProject_out/20210525_10xscRNA_Gray/Novaseq_20200609_10x/counting/Gout98_counts/outs/filtered_feature_bc_matrix\"\n",
    "\n",
    "# case02\n",
    "c2_a_g75data = \"/DATA1/ByProject_out/20210525_10xscRNA_Gray/Novaseq_20200609_10x/counting/Gout75_counts/outs/filtered_feature_bc_matrix\"\n",
    "c2_b_g77data = \"/DATA1/ByProject_out/20210525_10xscRNA_Gray/Novaseq_20200609_10x/counting/Gout77_counts/outs/filtered_feature_bc_matrix\"\n",
    "c2_c_g107data = \"/DATA1/ByProject_out/20210525_10xscRNA_Gray/Novaseq_20200915_10x/counting/SC_Gout107_counts/outs/filtered_feature_bc_matrix\"\n",
    "\n",
    "# case03\n",
    "c3_a_g79data = \"/DATA1/ByProject_out/20210525_10xscRNA_Gray/Novaseq_20200609_10x/counting/Gout79_counts/outs/filtered_feature_bc_matrix\"\n",
    "c3_b_g80data = \"/DATA1/ByProject_out/20210525_10xscRNA_Gray/Novaseq_20200609_10x/counting/Gout80_counts/outs/filtered_feature_bc_matrix\"\n",
    "c3_c_g113data = \"/DATA1/ByProject_out/20210525_10xscRNA_Gray/Novaseq_20200915_10x/counting/SC_Gout113_counts/outs/filtered_feature_bc_matrix\"\n",
    "\n",
    "# case04\n",
    "c4_a_g83data = \"/DATA1/ByProject_out/20210525_10xscRNA_Gray/Novaseq_20200609_10x/counting/Gout83_counts/outs/filtered_feature_bc_matrix\"\n",
    "c4_b_g86data = \"/DATA1/ByProject_out/20210525_10xscRNA_Gray/Novaseq_20200609_10x/counting/Gout86_counts/outs/filtered_feature_bc_matrix\"\n",
    "c4_c_g106data = \"/DATA1/ByProject_out/20210525_10xscRNA_Gray/Novaseq_20200915_10x/counting/SC_Gout106_counts/outs/filtered_feature_bc_matrix\"\n",
    "\n",
    "# case05\n",
    "c5_a_g84data = \"/DATA1/ByProject_out/20210525_10xscRNA_Gray/Novaseq_20200609_10x/counting/Gout84_counts/outs/filtered_feature_bc_matrix\"\n",
    "c5_b_g88data = \"/DATA1/ByProject_out/20210525_10xscRNA_Gray/Novaseq_20200609_10x/counting/Gout88_counts/outs/filtered_feature_bc_matrix\"\n",
    "c5_c_g112data = \"/DATA1/ByProject_out/20210525_10xscRNA_Gray/Novaseq_20200915_10x/counting/SC_Gout112_counts/outs/filtered_feature_bc_matrix\"\n",
    "\n",
    "# case06\n",
    "c6_a_g85data = \"/DATA1/ByProject_out/20210525_10xscRNA_Gray/Novaseq_20200609_10x/counting/Gout85_counts/outs/filtered_feature_bc_matrix\"\n",
    "c6_b_g87data = \"/DATA1/ByProject_out/20210525_10xscRNA_Gray/Novaseq_20200609_10x/counting/Gout87_counts/outs/filtered_feature_bc_matrix\"\n",
    "c6_c_g114data = \"/DATA1/ByProject_out/20210525_10xscRNA_Gray/Novaseq_20200915_10x/counting/SC_Gout114_counts/outs/filtered_feature_bc_matrix\"\n",
    "\n",
    "# case07\n",
    "c7_a_g99data = \"/DATA1/ByProject_out/20210525_10xscRNA_Gray/Novaseq_20200609_10x/counting/Gout99_counts/outs/filtered_feature_bc_matrix\"\n",
    "c7_b_g101data = \"/DATA1/ByProject_out/20210525_10xscRNA_Gray/Novaseq_20200915_10x/counting/SC_Gout101_counts/outs/filtered_feature_bc_matrix\"\n",
    "c7_c_g119data = \"/DATA1/ByProject_out/20210525_10xscRNA_Gray/Novaseq_20210708_10x/scRNAseq_10x/counting/SC_Gout119_counts/outs/filtered_feature_bc_matrix\"\n",
    "\n",
    "# HC\n",
    "RJdata = \"/DATA1/ByProject_out/20210525_10xscRNA_Gray/Novaseq_20200609_10x/counting/RJ_counts/outs/filtered_feature_bc_matrix\"\n",
    "YBdata = \"/DATA1/ByProject_out/20210525_10xscRNA_Gray/Novaseq_20200609_10x/counting/YB_counts/outs/filtered_feature_bc_matrix\"\n",
    "MHdata = \"/DATA1/ByProject_out/20210525_10xscRNA_Gray/Novaseq_20211103_10x/counting/SC_MH_counts/outs/filtered_feature_bc_matrix\"\n",
    "RGdata = \"/DATA1/ByProject_out/20210525_10xscRNA_Gray/Novaseq_20211103_10x/counting/SC_RG_counts/outs/filtered_feature_bc_matrix\""
   ]
  },
  {
   "cell_type": "code",
   "execution_count": 3,
   "metadata": {},
   "outputs": [],
   "source": [
    "data_dict = {\n",
    "    \"c1_a\":c1_a_g72data, \"c1_b\":c1_b_g74data, \"c1_c\":c1_c_g98data,\n",
    "    \"c2_a\":c2_a_g75data, \"c2_b\":c2_b_g77data, \"c2_c\":c2_c_g107data,\n",
    "    \"c3_a\":c3_a_g79data, \"c3_b\":c3_b_g80data, \"c3_c\":c3_c_g113data,\n",
    "    \"c4_a\":c4_a_g83data, \"c4_b\":c4_b_g86data, \"c4_c\":c4_c_g106data,\n",
    "    \"c5_a\":c5_a_g84data, \"c5_b\":c5_b_g88data, \"c5_c\":c5_c_g112data,\n",
    "    \"c6_a\":c6_a_g85data, \"c6_b\":c6_b_g87data, \"c6_c\":c6_c_g114data,\n",
    "    \"c7_a\":c7_a_g99data, \"c7_b\":c7_b_g101data, \"c7_c\":c7_c_g119data,\n",
    "    \"RJ\":RJdata, \"YB\":YBdata\n",
    "}"
   ]
  },
  {
   "cell_type": "code",
   "execution_count": 6,
   "metadata": {},
   "outputs": [],
   "source": [
    "data_dict = {\n",
    "   \"MH\":MHdata, \"RG\":RGdata\n",
    "}"
   ]
  },
  {
   "cell_type": "code",
   "execution_count": 3,
   "metadata": {},
   "outputs": [
    {
     "name": "stdout",
     "output_type": "stream",
     "text": [
      "scanpy==1.8.1 anndata==0.7.6 umap==0.5.1 numpy==1.19.2 scipy==1.5.2 pandas==1.1.3 scikit-learn==0.23.2 statsmodels==0.12.0 pynndescent==0.5.5\n"
     ]
    }
   ],
   "source": [
    "sc.settings.verbosity = 3             # verbosity: errors (0), warnings (1), info (2), hints (3)\n",
    "sc.logging.print_header()\n",
    "sc.settings.set_figure_params(dpi=80, facecolor='white')"
   ]
  },
  {
   "cell_type": "code",
   "execution_count": 7,
   "metadata": {},
   "outputs": [
    {
     "name": "stdout",
     "output_type": "stream",
     "text": [
      "... writing an h5ad cache file to speedup reading next time\n",
      "Preprocessing...\n",
      "Simulating doublets...\n",
      "Embedding transcriptomes using PCA...\n",
      "Calculating doublet scores...\n"
     ]
    },
    {
     "name": "stderr",
     "output_type": "stream",
     "text": [
      "... storing 'feature_types' as categorical\n"
     ]
    },
    {
     "name": "stdout",
     "output_type": "stream",
     "text": [
      "Automatically set threshold at doublet score = 0.32\n",
      "Detected doublet rate = 8.7%\n",
      "Estimated detectable doublet fraction = 63.0%\n",
      "Overall doublet rate:\n",
      "\tExpected   = 10.0%\n",
      "\tEstimated  = 13.8%\n",
      "Elapsed time: 27.5 seconds\n",
      "... writing an h5ad cache file to speedup reading next time\n",
      "Preprocessing...\n",
      "Simulating doublets...\n",
      "Embedding transcriptomes using PCA...\n",
      "Calculating doublet scores...\n"
     ]
    },
    {
     "name": "stderr",
     "output_type": "stream",
     "text": [
      "... storing 'feature_types' as categorical\n"
     ]
    },
    {
     "name": "stdout",
     "output_type": "stream",
     "text": [
      "Automatically set threshold at doublet score = 0.27\n",
      "Detected doublet rate = 8.4%\n",
      "Estimated detectable doublet fraction = 69.2%\n",
      "Overall doublet rate:\n",
      "\tExpected   = 10.0%\n",
      "\tEstimated  = 12.1%\n",
      "Elapsed time: 22.1 seconds\n"
     ]
    }
   ],
   "source": [
    "for name, data in data_dict.items():\n",
    "    adata = sc.read_10x_mtx(\n",
    "        data,                                    # the directory with the `.mtx` file\n",
    "        var_names='gene_symbols',                # use gene symbols for the variable names (variables-axis index)\n",
    "        cache=True) \n",
    "    #sc.pp.filter_genes(adata, min_cells=5)\n",
    "    counts_matrix = adata.X\n",
    "    scrub = scr.Scrublet(counts_matrix)\n",
    "    doublet_scores, predicted_doublets = scrub.scrub_doublets()\n",
    "    adata.obs[\"predicted_doublets\"] = predicted_doublets\n",
    "    adata.obs[\"doublet_score\"] = doublet_scores\n",
    "    adata.write_h5ad(f\"{name}.h5ad\")"
   ]
  }
 ],
 "metadata": {
  "kernelspec": {
   "display_name": "Python 3",
   "language": "python",
   "name": "python3"
  },
  "language_info": {
   "codemirror_mode": {
    "name": "ipython",
    "version": 3
   },
   "file_extension": ".py",
   "mimetype": "text/x-python",
   "name": "python",
   "nbconvert_exporter": "python",
   "pygments_lexer": "ipython3",
   "version": "3.8.6"
  }
 },
 "nbformat": 4,
 "nbformat_minor": 4
}
