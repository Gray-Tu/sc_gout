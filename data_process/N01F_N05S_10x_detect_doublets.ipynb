{
 "cells": [
  {
   "cell_type": "code",
   "execution_count": 2,
   "metadata": {},
   "outputs": [
    {
     "name": "stdout",
     "output_type": "stream",
     "text": [
      "Collecting scanpy\n",
      "  Downloading scanpy-1.8.2-py3-none-any.whl (2.0 MB)\n",
      "\u001b[K     |████████████████████████████████| 2.0 MB 976 kB/s eta 0:00:01\n",
      "\u001b[?25hRequirement already satisfied: tqdm in /opt/conda/lib/python3.8/site-packages (from scanpy) (4.50.2)\n",
      "Requirement already satisfied: numpy>=1.17.0 in /opt/conda/lib/python3.8/site-packages (from scanpy) (1.19.2)\n",
      "Requirement already satisfied: tables in /opt/conda/lib/python3.8/site-packages (from scanpy) (3.6.1)\n",
      "Requirement already satisfied: matplotlib>=3.1.2 in /opt/conda/lib/python3.8/site-packages (from scanpy) (3.3.2)\n",
      "Collecting sinfo\n",
      "  Downloading sinfo-0.3.4.tar.gz (24 kB)\n",
      "Collecting anndata>=0.7.4\n",
      "  Downloading anndata-0.7.6-py3-none-any.whl (127 kB)\n",
      "\u001b[K     |████████████████████████████████| 127 kB 30.5 MB/s eta 0:00:01\n",
      "\u001b[?25hRequirement already satisfied: scikit-learn>=0.22 in /opt/conda/lib/python3.8/site-packages (from scanpy) (0.23.2)\n",
      "Requirement already satisfied: packaging in /opt/conda/lib/python3.8/site-packages (from scanpy) (20.4)\n",
      "Requirement already satisfied: scipy>=1.4 in /opt/conda/lib/python3.8/site-packages (from scanpy) (1.5.2)\n",
      "Collecting umap-learn>=0.3.10\n",
      "  Downloading umap-learn-0.5.2.tar.gz (86 kB)\n",
      "\u001b[K     |████████████████████████████████| 86 kB 9.6 MB/s  eta 0:00:01\n",
      "\u001b[?25hRequirement already satisfied: statsmodels>=0.10.0rc2 in /opt/conda/lib/python3.8/site-packages (from scanpy) (0.12.0)\n",
      "Requirement already satisfied: seaborn in /opt/conda/lib/python3.8/site-packages (from scanpy) (0.11.0)\n",
      "Requirement already satisfied: patsy in /opt/conda/lib/python3.8/site-packages (from scanpy) (0.5.1)\n",
      "Requirement already satisfied: numba>=0.41.0 in /opt/conda/lib/python3.8/site-packages (from scanpy) (0.51.2)\n",
      "Requirement already satisfied: joblib in /opt/conda/lib/python3.8/site-packages (from scanpy) (0.17.0)\n",
      "Requirement already satisfied: h5py>=2.10.0 in /opt/conda/lib/python3.8/site-packages (from scanpy) (2.10.0)\n",
      "Collecting natsort\n",
      "  Downloading natsort-8.0.0-py3-none-any.whl (37 kB)\n",
      "Requirement already satisfied: networkx>=2.3 in /opt/conda/lib/python3.8/site-packages (from scanpy) (2.5)\n",
      "Requirement already satisfied: pandas>=0.21 in /opt/conda/lib/python3.8/site-packages (from scanpy) (1.1.3)\n",
      "Requirement already satisfied: numexpr>=2.6.2 in /opt/conda/lib/python3.8/site-packages (from tables->scanpy) (2.7.1)\n",
      "Requirement already satisfied: pillow>=6.2.0 in /opt/conda/lib/python3.8/site-packages (from matplotlib>=3.1.2->scanpy) (8.0.0)\n",
      "Requirement already satisfied: python-dateutil>=2.1 in /opt/conda/lib/python3.8/site-packages (from matplotlib>=3.1.2->scanpy) (2.8.1)\n",
      "Requirement already satisfied: certifi>=2020.06.20 in /opt/conda/lib/python3.8/site-packages (from matplotlib>=3.1.2->scanpy) (2020.6.20)\n",
      "Requirement already satisfied: kiwisolver>=1.0.1 in /opt/conda/lib/python3.8/site-packages (from matplotlib>=3.1.2->scanpy) (1.2.0)\n",
      "Requirement already satisfied: pyparsing!=2.0.4,!=2.1.2,!=2.1.6,>=2.0.3 in /opt/conda/lib/python3.8/site-packages (from matplotlib>=3.1.2->scanpy) (2.4.7)\n",
      "Requirement already satisfied: cycler>=0.10 in /opt/conda/lib/python3.8/site-packages (from matplotlib>=3.1.2->scanpy) (0.10.0)\n",
      "Collecting stdlib_list\n",
      "  Downloading stdlib_list-0.8.0-py3-none-any.whl (63 kB)\n",
      "\u001b[K     |████████████████████████████████| 63 kB 3.8 MB/s  eta 0:00:01\n",
      "\u001b[?25hRequirement already satisfied: xlrd<2.0 in /opt/conda/lib/python3.8/site-packages (from anndata>=0.7.4->scanpy) (1.2.0)\n",
      "Requirement already satisfied: threadpoolctl>=2.0.0 in /opt/conda/lib/python3.8/site-packages (from scikit-learn>=0.22->scanpy) (2.1.0)\n",
      "Requirement already satisfied: six in /opt/conda/lib/python3.8/site-packages (from packaging->scanpy) (1.15.0)\n",
      "Collecting pynndescent>=0.5\n",
      "  Downloading pynndescent-0.5.5.tar.gz (1.1 MB)\n",
      "\u001b[K     |████████████████████████████████| 1.1 MB 30.0 MB/s eta 0:00:01\n",
      "\u001b[?25hRequirement already satisfied: llvmlite<0.35,>=0.34.0.dev0 in /opt/conda/lib/python3.8/site-packages (from numba>=0.41.0->scanpy) (0.34.0)\n",
      "Requirement already satisfied: setuptools in /opt/conda/lib/python3.8/site-packages (from numba>=0.41.0->scanpy) (49.6.0.post20201009)\n",
      "Requirement already satisfied: decorator>=4.3.0 in /opt/conda/lib/python3.8/site-packages (from networkx>=2.3->scanpy) (4.4.2)\n",
      "Requirement already satisfied: pytz>=2017.2 in /opt/conda/lib/python3.8/site-packages (from pandas>=0.21->scanpy) (2020.1)\n",
      "Building wheels for collected packages: sinfo, umap-learn, pynndescent\n",
      "  Building wheel for sinfo (setup.py) ... \u001b[?25ldone\n",
      "\u001b[?25h  Created wheel for sinfo: filename=sinfo-0.3.4-py3-none-any.whl size=7899 sha256=3aa9b5722e8a6cf8226ea83c40a999155ec5fc90e2fdc60ca122caadff8f2fe9\n",
      "  Stored in directory: /home/jovyan/.cache/pip/wheels/0e/63/be/1333921ddb5d249efe6db671c36608e46593e018994c3be11d\n",
      "  Building wheel for umap-learn (setup.py) ... \u001b[?25ldone\n",
      "\u001b[?25h  Created wheel for umap-learn: filename=umap_learn-0.5.2-py3-none-any.whl size=82696 sha256=9c824a67aeea827c1a0b734c68bcd3f0c53340b75d231239768af538d7ef8308\n",
      "  Stored in directory: /home/jovyan/.cache/pip/wheels/f2/64/75/df601da9514261c8cb0830b9515d2b94b5a51f09ddeae92b9e\n",
      "  Building wheel for pynndescent (setup.py) ... \u001b[?25ldone\n",
      "\u001b[?25h  Created wheel for pynndescent: filename=pynndescent-0.5.5-py3-none-any.whl size=52587 sha256=c8210cfd783895d44bf2af676d9d85388024d2e66135d18912fc6319b489542d\n",
      "  Stored in directory: /home/jovyan/.cache/pip/wheels/e4/0e/b5/07c0c231aacb04e5d1046fe7459bb27ea79f95b5edbe88e435\n",
      "Successfully built sinfo umap-learn pynndescent\n",
      "Installing collected packages: stdlib-list, sinfo, natsort, anndata, pynndescent, umap-learn, scanpy\n",
      "Successfully installed anndata-0.7.6 natsort-8.0.0 pynndescent-0.5.5 scanpy-1.8.2 sinfo-0.3.4 stdlib-list-0.8.0 umap-learn-0.5.2\n"
     ]
    }
   ],
   "source": [
    "!pip install scanpy"
   ]
  },
  {
   "cell_type": "code",
   "execution_count": 4,
   "metadata": {},
   "outputs": [
    {
     "name": "stdout",
     "output_type": "stream",
     "text": [
      "Collecting scrublet\n",
      "  Downloading scrublet-0.2.3-py3-none-any.whl (15 kB)\n",
      "Requirement already satisfied: numba in /opt/conda/lib/python3.8/site-packages (from scrublet) (0.51.2)\n",
      "Requirement already satisfied: matplotlib in /opt/conda/lib/python3.8/site-packages (from scrublet) (3.3.2)\n",
      "Requirement already satisfied: numpy in /opt/conda/lib/python3.8/site-packages (from scrublet) (1.19.2)\n",
      "Requirement already satisfied: scikit-image in /opt/conda/lib/python3.8/site-packages (from scrublet) (0.17.2)\n",
      "Requirement already satisfied: cython in /opt/conda/lib/python3.8/site-packages (from scrublet) (0.29.21)\n",
      "Requirement already satisfied: scipy in /opt/conda/lib/python3.8/site-packages (from scrublet) (1.5.2)\n",
      "Collecting annoy\n",
      "  Downloading annoy-1.17.0.tar.gz (646 kB)\n",
      "\u001b[K     |████████████████████████████████| 646 kB 1.2 MB/s eta 0:00:01\n",
      "\u001b[?25hRequirement already satisfied: umap-learn in /opt/conda/lib/python3.8/site-packages (from scrublet) (0.5.2)\n",
      "Requirement already satisfied: pandas in /opt/conda/lib/python3.8/site-packages (from scrublet) (1.1.3)\n",
      "Requirement already satisfied: scikit-learn in /opt/conda/lib/python3.8/site-packages (from scrublet) (0.23.2)\n",
      "Requirement already satisfied: llvmlite<0.35,>=0.34.0.dev0 in /opt/conda/lib/python3.8/site-packages (from numba->scrublet) (0.34.0)\n",
      "Requirement already satisfied: setuptools in /opt/conda/lib/python3.8/site-packages (from numba->scrublet) (49.6.0.post20201009)\n",
      "Requirement already satisfied: pillow>=6.2.0 in /opt/conda/lib/python3.8/site-packages (from matplotlib->scrublet) (8.0.0)\n",
      "Requirement already satisfied: python-dateutil>=2.1 in /opt/conda/lib/python3.8/site-packages (from matplotlib->scrublet) (2.8.1)\n",
      "Requirement already satisfied: certifi>=2020.06.20 in /opt/conda/lib/python3.8/site-packages (from matplotlib->scrublet) (2020.6.20)\n",
      "Requirement already satisfied: kiwisolver>=1.0.1 in /opt/conda/lib/python3.8/site-packages (from matplotlib->scrublet) (1.2.0)\n",
      "Requirement already satisfied: cycler>=0.10 in /opt/conda/lib/python3.8/site-packages (from matplotlib->scrublet) (0.10.0)\n",
      "Requirement already satisfied: pyparsing!=2.0.4,!=2.1.2,!=2.1.6,>=2.0.3 in /opt/conda/lib/python3.8/site-packages (from matplotlib->scrublet) (2.4.7)\n",
      "Requirement already satisfied: networkx>=2.0 in /opt/conda/lib/python3.8/site-packages (from scikit-image->scrublet) (2.5)\n",
      "Requirement already satisfied: imageio>=2.3.0 in /opt/conda/lib/python3.8/site-packages (from scikit-image->scrublet) (2.9.0)\n",
      "Requirement already satisfied: tifffile>=2019.7.26 in /opt/conda/lib/python3.8/site-packages (from scikit-image->scrublet) (2020.10.1)\n",
      "Requirement already satisfied: PyWavelets>=1.1.1 in /opt/conda/lib/python3.8/site-packages (from scikit-image->scrublet) (1.1.1)\n",
      "Requirement already satisfied: pynndescent>=0.5 in /opt/conda/lib/python3.8/site-packages (from umap-learn->scrublet) (0.5.5)\n",
      "Requirement already satisfied: tqdm in /opt/conda/lib/python3.8/site-packages (from umap-learn->scrublet) (4.50.2)\n",
      "Requirement already satisfied: pytz>=2017.2 in /opt/conda/lib/python3.8/site-packages (from pandas->scrublet) (2020.1)\n",
      "Requirement already satisfied: joblib>=0.11 in /opt/conda/lib/python3.8/site-packages (from scikit-learn->scrublet) (0.17.0)\n",
      "Requirement already satisfied: threadpoolctl>=2.0.0 in /opt/conda/lib/python3.8/site-packages (from scikit-learn->scrublet) (2.1.0)\n",
      "Requirement already satisfied: six>=1.5 in /opt/conda/lib/python3.8/site-packages (from python-dateutil>=2.1->matplotlib->scrublet) (1.15.0)\n",
      "Requirement already satisfied: decorator>=4.3.0 in /opt/conda/lib/python3.8/site-packages (from networkx>=2.0->scikit-image->scrublet) (4.4.2)\n",
      "Building wheels for collected packages: annoy\n",
      "  Building wheel for annoy (setup.py) ... \u001b[?25ldone\n",
      "\u001b[?25h  Created wheel for annoy: filename=annoy-1.17.0-cp38-cp38-linux_x86_64.whl size=577980 sha256=dceb81d7eb8c4d14f5a724beaf547f83cb0b29f7d952af9ae0dad658f6856c1a\n",
      "  Stored in directory: /home/jovyan/.cache/pip/wheels/77/01/de/4421524f9997a25dfa7291121565d12ef514154945e80e907a\n",
      "Successfully built annoy\n",
      "Installing collected packages: annoy, scrublet\n",
      "Successfully installed annoy-1.17.0 scrublet-0.2.3\n"
     ]
    }
   ],
   "source": [
    "!pip install scrublet"
   ]
  },
  {
   "cell_type": "code",
   "execution_count": 5,
   "metadata": {},
   "outputs": [],
   "source": [
    "import numpy as np\n",
    "import pandas as pd\n",
    "import scanpy as sc\n",
    "import scrublet as scr"
   ]
  },
  {
   "cell_type": "code",
   "execution_count": 6,
   "metadata": {},
   "outputs": [],
   "source": [
    "# AHUS\n",
    "# 20200915\n",
    "a01 = \"/DATA1/ByProject_out/20210525_10xscRNA_Gray/Novaseq_20200915_10x/counting/SC_AHUS01_counts/outs/filtered_feature_bc_matrix\"\n",
    "a02 = \"/DATA1/ByProject_out/20210525_10xscRNA_Gray/Novaseq_20200915_10x/counting/SC_AHUS02_counts/outs/filtered_feature_bc_matrix\"\n",
    "a10 = \"/DATA1/ByProject_out/20210525_10xscRNA_Gray/Novaseq_20200915_10x/counting/SC_AHUS10_counts/outs/filtered_feature_bc_matrix\"\n",
    "a11 = \"/DATA1/ByProject_out/20210525_10xscRNA_Gray/Novaseq_20200915_10x/counting/SC_AHUS11_counts/outs/filtered_feature_bc_matrix\"\n",
    "a12 = \"/DATA1/ByProject_out/20210525_10xscRNA_Gray/Novaseq_20200915_10x/counting/SC_AHUS12_counts/outs/filtered_feature_bc_matrix\"\n",
    "a13 = \"/DATA1/ByProject_out/20210525_10xscRNA_Gray/Novaseq_20200915_10x/counting/SC_AHUS13_counts/outs/filtered_feature_bc_matrix\"\n",
    "a14 = \"/DATA1/ByProject_out/20210525_10xscRNA_Gray/Novaseq_20200915_10x/counting/SC_AHUS14_counts/outs/filtered_feature_bc_matrix\"\n",
    "\n",
    "# 20201112\n",
    "a03 = \"/DATA1/ByProject_out/20210525_10xscRNA_Gray/Novaseq_20201112A_10x/counting/SC_AHUS03-2_counts/outs/filtered_feature_bc_matrix\"\n",
    "a04 = \"/DATA1/ByProject_out/20210525_10xscRNA_Gray/Novaseq_20201112A_10x/counting/SC_AHUS04-2_counts/outs/filtered_feature_bc_matrix\"\n",
    "a05 = \"/DATA1/ByProject_out/20210525_10xscRNA_Gray/Novaseq_20201112A_10x/counting/SC_AHUS05-2_counts/outs/filtered_feature_bc_matrix\"\n",
    "a06 = \"/DATA1/ByProject_out/20210525_10xscRNA_Gray/Novaseq_20201112A_10x/counting/SC_AHUS06-2_counts/outs/filtered_feature_bc_matrix\"\n",
    "a07 = \"/DATA1/ByProject_out/20210525_10xscRNA_Gray/Novaseq_20201112A_10x/counting/SC_AHUS07-2_counts/outs/filtered_feature_bc_matrix\"\n",
    "a08 = \"/DATA1/ByProject_out/20210525_10xscRNA_Gray/Novaseq_20201112A_10x/counting/SC_AHUS08-2_counts/outs/filtered_feature_bc_matrix\"\n",
    "a09 = \"/DATA1/ByProject_out/20210525_10xscRNA_Gray/Novaseq_20201112A_10x/counting/SC_AHUS09-2_counts/outs/filtered_feature_bc_matrix\"\n",
    "\n",
    "# 20211103 # CR6.0\n",
    "a15 = \"/DATA1/ByProject_out/20210525_10xscRNA_Gray/Novaseq_20211103_10x/counting/SC_AHUS15_counts/outs/filtered_feature_bc_matrix\"\n",
    "a16 = \"/DATA1/ByProject_out/20210525_10xscRNA_Gray/Novaseq_20211103_10x/counting/SC_AHUS16_counts/outs/filtered_feature_bc_matrix\"\n",
    "a17 = \"/DATA1/ByProject_out/20210525_10xscRNA_Gray/Novaseq_20211103_10x/counting/SC_AHUS17_counts/outs/filtered_feature_bc_matrix\"\n",
    "\n",
    "# Risk Normal\n",
    "N01F = \"/DATA1/ByProject_out/20210525_10xscRNA_Gray/Novaseq_20200915_10x/counting/SC_Normal01F_counts/outs/filtered_feature_bc_matrix\"\n",
    "N01M =\"/DATA1/ByProject_out/20210525_10xscRNA_Gray/Novaseq_20200915_10x/counting/SC_Normal01M_counts/outs/filtered_feature_bc_matrix\"\n",
    "N02M = \"/DATA1/ByProject_out/20210525_10xscRNA_Gray/Novaseq_20200915_10x/counting/SC_Normal02M_counts/outs/filtered_feature_bc_matrix\"\n",
    "N05S = \"/DATA1/ByProject_out/20210525_10xscRNA_Gray/Novaseq_20201112A_10x/counting/SC_Normal05S-2_counts/outs/filtered_feature_bc_matrix\"\n",
    "\n",
    "# HC \n",
    "RJ = \"/DATA1/ByProject_out/20210525_10xscRNA_Gray/Novaseq_20200609_10x/counting/RJ_counts/outs/filtered_feature_bc_matrix\"\n",
    "YB = \"/DATA1/ByProject_out/20210525_10xscRNA_Gray/Novaseq_20200609_10x/counting/YB_counts/outs/filtered_feature_bc_matrix\"\n",
    "# HC CR6.0\n",
    "MH = \"/DATA1/ByProject_out/20210525_10xscRNA_Gray/Novaseq_20211103_10x/counting/SC_MH_counts/outs/filtered_feature_bc_matrix\"\n",
    "RG = \"/DATA1/ByProject_out/20210525_10xscRNA_Gray/Novaseq_20211103_10x/counting/SC_RG_counts/outs/filtered_feature_bc_matrix\"\n"
   ]
  },
  {
   "cell_type": "code",
   "execution_count": 15,
   "metadata": {},
   "outputs": [
    {
     "name": "stdout",
     "output_type": "stream",
     "text": [
      "\n",
      "\"a01\" : a01, \"a02\" : a02, \"a03\" : a03, \"a04\" : a04, \n",
      "\"a05\" : a05, \"a06\" : a06, \"a07\" : a07, \"a08\" : a08, \n",
      "\"a09\" : a09, \"a10\" : a10, \"a11\" : a11, \"a12\" : a12, \n",
      "\"a13\" : a13, \"a14\" : a14, \"a15\" : a15, \"a16\" : a16, \n",
      "\"a17\" : a17, "
     ]
    }
   ],
   "source": [
    "for i in range(1,18):\n",
    "    if i %4 ==1:\n",
    "        print()\n",
    "    print(f'\"a{i:02}\" : a{i:02},', end=\" \")"
   ]
  },
  {
   "cell_type": "code",
   "execution_count": 16,
   "metadata": {},
   "outputs": [],
   "source": [
    "data_dict = {\n",
    "    \"a01\" : a01, \"a02\" : a02, \"a03\" : a03, \"a04\" : a04, \n",
    "    \"a05\" : a05, \"a06\" : a06, \"a07\" : a07, \"a08\" : a08, \n",
    "    \"a09\" : a09, \"a10\" : a10, \"a11\" : a11, \"a12\" : a12, \n",
    "    \"a13\" : a13, \"a14\" : a14, \"a15\" : a15, \"a16\" : a16, \n",
    "    \"a17\" : a17, \n",
    "    \"RJ\":RJ, \"YB\":YB, \"MH\":MH, \"RG\":RG\n",
    "}"
   ]
  },
  {
   "cell_type": "code",
   "execution_count": 17,
   "metadata": {},
   "outputs": [
    {
     "name": "stdout",
     "output_type": "stream",
     "text": [
      "scanpy==1.8.2 anndata==0.7.6 umap==0.5.2 numpy==1.19.2 scipy==1.5.2 pandas==1.1.3 scikit-learn==0.23.2 statsmodels==0.12.0 pynndescent==0.5.5\n"
     ]
    }
   ],
   "source": [
    "sc.settings.verbosity = 3             # verbosity: errors (0), warnings (1), info (2), hints (3)\n",
    "sc.logging.print_header()\n",
    "sc.settings.set_figure_params(dpi=80, facecolor='white')"
   ]
  },
  {
   "cell_type": "code",
   "execution_count": 18,
   "metadata": {},
   "outputs": [
    {
     "name": "stdout",
     "output_type": "stream",
     "text": [
      "... writing an h5ad cache file to speedup reading next time\n",
      "Preprocessing...\n",
      "Simulating doublets...\n",
      "Embedding transcriptomes using PCA...\n",
      "Calculating doublet scores...\n"
     ]
    },
    {
     "name": "stderr",
     "output_type": "stream",
     "text": [
      "... storing 'feature_types' as categorical\n"
     ]
    },
    {
     "name": "stdout",
     "output_type": "stream",
     "text": [
      "Automatically set threshold at doublet score = 0.31\n",
      "Detected doublet rate = 6.6%\n",
      "Estimated detectable doublet fraction = 59.0%\n",
      "Overall doublet rate:\n",
      "\tExpected   = 10.0%\n",
      "\tEstimated  = 11.2%\n",
      "Elapsed time: 16.1 seconds\n",
      "... writing an h5ad cache file to speedup reading next time\n",
      "Preprocessing...\n",
      "Simulating doublets...\n",
      "Embedding transcriptomes using PCA...\n",
      "Calculating doublet scores...\n"
     ]
    },
    {
     "name": "stderr",
     "output_type": "stream",
     "text": [
      "... storing 'feature_types' as categorical\n"
     ]
    },
    {
     "name": "stdout",
     "output_type": "stream",
     "text": [
      "Automatically set threshold at doublet score = 0.34\n",
      "Detected doublet rate = 4.3%\n",
      "Estimated detectable doublet fraction = 45.6%\n",
      "Overall doublet rate:\n",
      "\tExpected   = 10.0%\n",
      "\tEstimated  = 9.5%\n",
      "Elapsed time: 27.5 seconds\n",
      "... writing an h5ad cache file to speedup reading next time\n",
      "Preprocessing...\n",
      "Simulating doublets...\n",
      "Embedding transcriptomes using PCA...\n",
      "Calculating doublet scores...\n"
     ]
    },
    {
     "name": "stderr",
     "output_type": "stream",
     "text": [
      "... storing 'feature_types' as categorical\n"
     ]
    },
    {
     "name": "stdout",
     "output_type": "stream",
     "text": [
      "Automatically set threshold at doublet score = 0.24\n",
      "Detected doublet rate = 15.0%\n",
      "Estimated detectable doublet fraction = 68.8%\n",
      "Overall doublet rate:\n",
      "\tExpected   = 10.0%\n",
      "\tEstimated  = 21.8%\n",
      "Elapsed time: 23.3 seconds\n",
      "... writing an h5ad cache file to speedup reading next time\n",
      "Preprocessing...\n",
      "Simulating doublets...\n",
      "Embedding transcriptomes using PCA...\n",
      "Calculating doublet scores...\n"
     ]
    },
    {
     "name": "stderr",
     "output_type": "stream",
     "text": [
      "... storing 'feature_types' as categorical\n"
     ]
    },
    {
     "name": "stdout",
     "output_type": "stream",
     "text": [
      "Automatically set threshold at doublet score = 0.26\n",
      "Detected doublet rate = 10.0%\n",
      "Estimated detectable doublet fraction = 65.1%\n",
      "Overall doublet rate:\n",
      "\tExpected   = 10.0%\n",
      "\tEstimated  = 15.3%\n",
      "Elapsed time: 24.5 seconds\n",
      "... writing an h5ad cache file to speedup reading next time\n",
      "Preprocessing...\n",
      "Simulating doublets...\n",
      "Embedding transcriptomes using PCA...\n",
      "Calculating doublet scores...\n"
     ]
    },
    {
     "name": "stderr",
     "output_type": "stream",
     "text": [
      "... storing 'feature_types' as categorical\n"
     ]
    },
    {
     "name": "stdout",
     "output_type": "stream",
     "text": [
      "Automatically set threshold at doublet score = 0.37\n",
      "Detected doublet rate = 4.8%\n",
      "Estimated detectable doublet fraction = 39.5%\n",
      "Overall doublet rate:\n",
      "\tExpected   = 10.0%\n",
      "\tEstimated  = 12.0%\n",
      "Elapsed time: 21.4 seconds\n",
      "... writing an h5ad cache file to speedup reading next time\n",
      "Preprocessing...\n",
      "Simulating doublets...\n",
      "Embedding transcriptomes using PCA...\n",
      "Calculating doublet scores...\n"
     ]
    },
    {
     "name": "stderr",
     "output_type": "stream",
     "text": [
      "... storing 'feature_types' as categorical\n"
     ]
    },
    {
     "name": "stdout",
     "output_type": "stream",
     "text": [
      "Automatically set threshold at doublet score = 0.40\n",
      "Detected doublet rate = 2.5%\n",
      "Estimated detectable doublet fraction = 43.3%\n",
      "Overall doublet rate:\n",
      "\tExpected   = 10.0%\n",
      "\tEstimated  = 5.8%\n",
      "Elapsed time: 20.1 seconds\n",
      "... writing an h5ad cache file to speedup reading next time\n",
      "Preprocessing...\n",
      "Simulating doublets...\n",
      "Embedding transcriptomes using PCA...\n",
      "Calculating doublet scores...\n"
     ]
    },
    {
     "name": "stderr",
     "output_type": "stream",
     "text": [
      "... storing 'feature_types' as categorical\n"
     ]
    },
    {
     "name": "stdout",
     "output_type": "stream",
     "text": [
      "Automatically set threshold at doublet score = 0.32\n",
      "Detected doublet rate = 6.3%\n",
      "Estimated detectable doublet fraction = 52.3%\n",
      "Overall doublet rate:\n",
      "\tExpected   = 10.0%\n",
      "\tEstimated  = 12.0%\n",
      "Elapsed time: 22.8 seconds\n",
      "... writing an h5ad cache file to speedup reading next time\n",
      "Preprocessing...\n",
      "Simulating doublets...\n",
      "Embedding transcriptomes using PCA...\n",
      "Calculating doublet scores...\n"
     ]
    },
    {
     "name": "stderr",
     "output_type": "stream",
     "text": [
      "... storing 'feature_types' as categorical\n"
     ]
    },
    {
     "name": "stdout",
     "output_type": "stream",
     "text": [
      "Automatically set threshold at doublet score = 0.30\n",
      "Detected doublet rate = 6.3%\n",
      "Estimated detectable doublet fraction = 55.7%\n",
      "Overall doublet rate:\n",
      "\tExpected   = 10.0%\n",
      "\tEstimated  = 11.2%\n",
      "Elapsed time: 18.0 seconds\n",
      "... writing an h5ad cache file to speedup reading next time\n",
      "Preprocessing...\n",
      "Simulating doublets...\n",
      "Embedding transcriptomes using PCA...\n",
      "Calculating doublet scores...\n"
     ]
    },
    {
     "name": "stderr",
     "output_type": "stream",
     "text": [
      "... storing 'feature_types' as categorical\n"
     ]
    },
    {
     "name": "stdout",
     "output_type": "stream",
     "text": [
      "Automatically set threshold at doublet score = 0.36\n",
      "Detected doublet rate = 3.4%\n",
      "Estimated detectable doublet fraction = 49.6%\n",
      "Overall doublet rate:\n",
      "\tExpected   = 10.0%\n",
      "\tEstimated  = 6.9%\n",
      "Elapsed time: 15.0 seconds\n",
      "... writing an h5ad cache file to speedup reading next time\n",
      "Preprocessing...\n",
      "Simulating doublets...\n",
      "Embedding transcriptomes using PCA...\n",
      "Calculating doublet scores...\n"
     ]
    },
    {
     "name": "stderr",
     "output_type": "stream",
     "text": [
      "... storing 'feature_types' as categorical\n"
     ]
    },
    {
     "name": "stdout",
     "output_type": "stream",
     "text": [
      "Automatically set threshold at doublet score = 0.37\n",
      "Detected doublet rate = 4.7%\n",
      "Estimated detectable doublet fraction = 50.9%\n",
      "Overall doublet rate:\n",
      "\tExpected   = 10.0%\n",
      "\tEstimated  = 9.3%\n",
      "Elapsed time: 16.2 seconds\n",
      "... writing an h5ad cache file to speedup reading next time\n",
      "Preprocessing...\n",
      "Simulating doublets...\n",
      "Embedding transcriptomes using PCA...\n",
      "Calculating doublet scores...\n"
     ]
    },
    {
     "name": "stderr",
     "output_type": "stream",
     "text": [
      "... storing 'feature_types' as categorical\n"
     ]
    },
    {
     "name": "stdout",
     "output_type": "stream",
     "text": [
      "Automatically set threshold at doublet score = 0.30\n",
      "Detected doublet rate = 8.7%\n",
      "Estimated detectable doublet fraction = 61.9%\n",
      "Overall doublet rate:\n",
      "\tExpected   = 10.0%\n",
      "\tEstimated  = 14.0%\n",
      "Elapsed time: 23.4 seconds\n",
      "... writing an h5ad cache file to speedup reading next time\n",
      "Preprocessing...\n",
      "Simulating doublets...\n",
      "Embedding transcriptomes using PCA...\n",
      "Calculating doublet scores...\n"
     ]
    },
    {
     "name": "stderr",
     "output_type": "stream",
     "text": [
      "... storing 'feature_types' as categorical\n"
     ]
    },
    {
     "name": "stdout",
     "output_type": "stream",
     "text": [
      "Automatically set threshold at doublet score = 0.32\n",
      "Detected doublet rate = 6.2%\n",
      "Estimated detectable doublet fraction = 60.1%\n",
      "Overall doublet rate:\n",
      "\tExpected   = 10.0%\n",
      "\tEstimated  = 10.3%\n",
      "Elapsed time: 16.6 seconds\n",
      "... writing an h5ad cache file to speedup reading next time\n",
      "Preprocessing...\n",
      "Simulating doublets...\n",
      "Embedding transcriptomes using PCA...\n",
      "Calculating doublet scores...\n"
     ]
    },
    {
     "name": "stderr",
     "output_type": "stream",
     "text": [
      "... storing 'feature_types' as categorical\n"
     ]
    },
    {
     "name": "stdout",
     "output_type": "stream",
     "text": [
      "Automatically set threshold at doublet score = 0.30\n",
      "Detected doublet rate = 6.5%\n",
      "Estimated detectable doublet fraction = 59.8%\n",
      "Overall doublet rate:\n",
      "\tExpected   = 10.0%\n",
      "\tEstimated  = 10.8%\n",
      "Elapsed time: 11.8 seconds\n",
      "... writing an h5ad cache file to speedup reading next time\n",
      "Preprocessing...\n",
      "Simulating doublets...\n",
      "Embedding transcriptomes using PCA...\n",
      "Calculating doublet scores...\n"
     ]
    },
    {
     "name": "stderr",
     "output_type": "stream",
     "text": [
      "... storing 'feature_types' as categorical\n"
     ]
    },
    {
     "name": "stdout",
     "output_type": "stream",
     "text": [
      "Automatically set threshold at doublet score = 0.33\n",
      "Detected doublet rate = 6.5%\n",
      "Estimated detectable doublet fraction = 55.7%\n",
      "Overall doublet rate:\n",
      "\tExpected   = 10.0%\n",
      "\tEstimated  = 11.8%\n",
      "Elapsed time: 22.4 seconds\n",
      "... writing an h5ad cache file to speedup reading next time\n",
      "Preprocessing...\n",
      "Simulating doublets...\n",
      "Embedding transcriptomes using PCA...\n",
      "Calculating doublet scores...\n"
     ]
    },
    {
     "name": "stderr",
     "output_type": "stream",
     "text": [
      "... storing 'feature_types' as categorical\n"
     ]
    },
    {
     "name": "stdout",
     "output_type": "stream",
     "text": [
      "Automatically set threshold at doublet score = 0.66\n",
      "Detected doublet rate = 0.3%\n",
      "Estimated detectable doublet fraction = 18.8%\n",
      "Overall doublet rate:\n",
      "\tExpected   = 10.0%\n",
      "\tEstimated  = 1.7%\n",
      "Elapsed time: 18.7 seconds\n",
      "... writing an h5ad cache file to speedup reading next time\n",
      "Preprocessing...\n",
      "Simulating doublets...\n",
      "Embedding transcriptomes using PCA...\n",
      "Calculating doublet scores...\n"
     ]
    },
    {
     "name": "stderr",
     "output_type": "stream",
     "text": [
      "... storing 'feature_types' as categorical\n"
     ]
    },
    {
     "name": "stdout",
     "output_type": "stream",
     "text": [
      "Automatically set threshold at doublet score = 0.28\n",
      "Detected doublet rate = 8.3%\n",
      "Estimated detectable doublet fraction = 65.9%\n",
      "Overall doublet rate:\n",
      "\tExpected   = 10.0%\n",
      "\tEstimated  = 12.6%\n",
      "Elapsed time: 26.5 seconds\n",
      "... writing an h5ad cache file to speedup reading next time\n",
      "Preprocessing...\n",
      "Simulating doublets...\n",
      "Embedding transcriptomes using PCA...\n",
      "Calculating doublet scores...\n"
     ]
    },
    {
     "name": "stderr",
     "output_type": "stream",
     "text": [
      "... storing 'feature_types' as categorical\n"
     ]
    },
    {
     "name": "stdout",
     "output_type": "stream",
     "text": [
      "Automatically set threshold at doublet score = 0.35\n",
      "Detected doublet rate = 5.5%\n",
      "Estimated detectable doublet fraction = 42.2%\n",
      "Overall doublet rate:\n",
      "\tExpected   = 10.0%\n",
      "\tEstimated  = 13.1%\n",
      "Elapsed time: 11.9 seconds\n",
      "... writing an h5ad cache file to speedup reading next time\n",
      "Preprocessing...\n",
      "Simulating doublets...\n",
      "Embedding transcriptomes using PCA...\n",
      "Calculating doublet scores...\n"
     ]
    },
    {
     "name": "stderr",
     "output_type": "stream",
     "text": [
      "... storing 'feature_types' as categorical\n"
     ]
    },
    {
     "name": "stdout",
     "output_type": "stream",
     "text": [
      "Automatically set threshold at doublet score = 0.30\n",
      "Detected doublet rate = 8.1%\n",
      "Estimated detectable doublet fraction = 65.7%\n",
      "Overall doublet rate:\n",
      "\tExpected   = 10.0%\n",
      "\tEstimated  = 12.3%\n",
      "Elapsed time: 21.4 seconds\n",
      "... writing an h5ad cache file to speedup reading next time\n",
      "Preprocessing...\n",
      "Simulating doublets...\n",
      "Embedding transcriptomes using PCA...\n",
      "Calculating doublet scores...\n"
     ]
    },
    {
     "name": "stderr",
     "output_type": "stream",
     "text": [
      "... storing 'feature_types' as categorical\n"
     ]
    },
    {
     "name": "stdout",
     "output_type": "stream",
     "text": [
      "Automatically set threshold at doublet score = 0.24\n",
      "Detected doublet rate = 9.6%\n",
      "Estimated detectable doublet fraction = 73.5%\n",
      "Overall doublet rate:\n",
      "\tExpected   = 10.0%\n",
      "\tEstimated  = 13.1%\n",
      "Elapsed time: 25.8 seconds\n",
      "... writing an h5ad cache file to speedup reading next time\n",
      "Preprocessing...\n",
      "Simulating doublets...\n",
      "Embedding transcriptomes using PCA...\n",
      "Calculating doublet scores...\n"
     ]
    },
    {
     "name": "stderr",
     "output_type": "stream",
     "text": [
      "... storing 'feature_types' as categorical\n"
     ]
    },
    {
     "name": "stdout",
     "output_type": "stream",
     "text": [
      "Automatically set threshold at doublet score = 0.32\n",
      "Detected doublet rate = 8.7%\n",
      "Estimated detectable doublet fraction = 63.0%\n",
      "Overall doublet rate:\n",
      "\tExpected   = 10.0%\n",
      "\tEstimated  = 13.8%\n",
      "Elapsed time: 22.3 seconds\n",
      "... writing an h5ad cache file to speedup reading next time\n",
      "Preprocessing...\n",
      "Simulating doublets...\n",
      "Embedding transcriptomes using PCA...\n",
      "Calculating doublet scores...\n"
     ]
    },
    {
     "name": "stderr",
     "output_type": "stream",
     "text": [
      "... storing 'feature_types' as categorical\n"
     ]
    },
    {
     "name": "stdout",
     "output_type": "stream",
     "text": [
      "Automatically set threshold at doublet score = 0.27\n",
      "Detected doublet rate = 8.4%\n",
      "Estimated detectable doublet fraction = 69.2%\n",
      "Overall doublet rate:\n",
      "\tExpected   = 10.0%\n",
      "\tEstimated  = 12.1%\n",
      "Elapsed time: 17.8 seconds\n"
     ]
    }
   ],
   "source": [
    "for name, data in data_dict.items():\n",
    "    adata = sc.read_10x_mtx(\n",
    "        data,                                    # the directory with the `.mtx` file\n",
    "        var_names='gene_symbols',                # use gene symbols for the variable names (variables-axis index)\n",
    "        cache=True) \n",
    "    #sc.pp.filter_genes(adata, min_cells=5)\n",
    "    counts_matrix = adata.X\n",
    "    scrub = scr.Scrublet(counts_matrix)\n",
    "    doublet_scores, predicted_doublets = scrub.scrub_doublets()\n",
    "    adata.obs[\"predicted_doublets\"] = predicted_doublets\n",
    "    adata.obs[\"doublet_score\"] = doublet_scores\n",
    "    adata.write_h5ad(f\"{name}.h5ad\")"
   ]
  },
  {
   "cell_type": "code",
   "execution_count": 19,
   "metadata": {},
   "outputs": [],
   "source": [
    "Ndata_dict = {\n",
    "    \"N01F\":N01F,\n",
    "    \"N01M\":N01M,\n",
    "    \"N02M\":N02M,\n",
    "    \"N05S\":N05S\n",
    "    }"
   ]
  },
  {
   "cell_type": "code",
   "execution_count": 20,
   "metadata": {},
   "outputs": [
    {
     "name": "stdout",
     "output_type": "stream",
     "text": [
      "... writing an h5ad cache file to speedup reading next time\n",
      "Preprocessing...\n",
      "Simulating doublets...\n",
      "Embedding transcriptomes using PCA...\n",
      "Calculating doublet scores...\n"
     ]
    },
    {
     "name": "stderr",
     "output_type": "stream",
     "text": [
      "... storing 'feature_types' as categorical\n"
     ]
    },
    {
     "name": "stdout",
     "output_type": "stream",
     "text": [
      "Automatically set threshold at doublet score = 0.33\n",
      "Detected doublet rate = 5.2%\n",
      "Estimated detectable doublet fraction = 57.8%\n",
      "Overall doublet rate:\n",
      "\tExpected   = 10.0%\n",
      "\tEstimated  = 8.9%\n",
      "Elapsed time: 16.9 seconds\n",
      "... writing an h5ad cache file to speedup reading next time\n",
      "Preprocessing...\n",
      "Simulating doublets...\n",
      "Embedding transcriptomes using PCA...\n",
      "Calculating doublet scores...\n"
     ]
    },
    {
     "name": "stderr",
     "output_type": "stream",
     "text": [
      "... storing 'feature_types' as categorical\n"
     ]
    },
    {
     "name": "stdout",
     "output_type": "stream",
     "text": [
      "Automatically set threshold at doublet score = 0.29\n",
      "Detected doublet rate = 8.3%\n",
      "Estimated detectable doublet fraction = 66.1%\n",
      "Overall doublet rate:\n",
      "\tExpected   = 10.0%\n",
      "\tEstimated  = 12.6%\n",
      "Elapsed time: 20.1 seconds\n",
      "... writing an h5ad cache file to speedup reading next time\n",
      "Preprocessing...\n",
      "Simulating doublets...\n",
      "Embedding transcriptomes using PCA...\n",
      "Calculating doublet scores...\n"
     ]
    },
    {
     "name": "stderr",
     "output_type": "stream",
     "text": [
      "... storing 'feature_types' as categorical\n"
     ]
    },
    {
     "name": "stdout",
     "output_type": "stream",
     "text": [
      "Automatically set threshold at doublet score = 0.24\n",
      "Detected doublet rate = 10.3%\n",
      "Estimated detectable doublet fraction = 72.1%\n",
      "Overall doublet rate:\n",
      "\tExpected   = 10.0%\n",
      "\tEstimated  = 14.3%\n",
      "Elapsed time: 24.2 seconds\n",
      "... writing an h5ad cache file to speedup reading next time\n",
      "Preprocessing...\n",
      "Simulating doublets...\n",
      "Embedding transcriptomes using PCA...\n",
      "Calculating doublet scores...\n"
     ]
    },
    {
     "name": "stderr",
     "output_type": "stream",
     "text": [
      "... storing 'feature_types' as categorical\n"
     ]
    },
    {
     "name": "stdout",
     "output_type": "stream",
     "text": [
      "Automatically set threshold at doublet score = 0.38\n",
      "Detected doublet rate = 3.7%\n",
      "Estimated detectable doublet fraction = 41.7%\n",
      "Overall doublet rate:\n",
      "\tExpected   = 10.0%\n",
      "\tEstimated  = 9.0%\n",
      "Elapsed time: 16.6 seconds\n"
     ]
    }
   ],
   "source": [
    "for name, data in Ndata_dict.items():\n",
    "    adata = sc.read_10x_mtx(\n",
    "        data,                                    # the directory with the `.mtx` file\n",
    "        var_names='gene_symbols',                # use gene symbols for the variable names (variables-axis index)\n",
    "        cache=True) \n",
    "    #sc.pp.filter_genes(adata, min_cells=5)\n",
    "    counts_matrix = adata.X\n",
    "    scrub = scr.Scrublet(counts_matrix)\n",
    "    doublet_scores, predicted_doublets = scrub.scrub_doublets()\n",
    "    adata.obs[\"predicted_doublets\"] = predicted_doublets\n",
    "    adata.obs[\"doublet_score\"] = doublet_scores\n",
    "    adata.write_h5ad(f\"{name}.h5ad\")"
   ]
  }
 ],
 "metadata": {
  "kernelspec": {
   "display_name": "Python 3",
   "language": "python",
   "name": "python3"
  },
  "language_info": {
   "codemirror_mode": {
    "name": "ipython",
    "version": 3
   },
   "file_extension": ".py",
   "mimetype": "text/x-python",
   "name": "python",
   "nbconvert_exporter": "python",
   "pygments_lexer": "ipython3",
   "version": "3.8.6"
  }
 },
 "nbformat": 4,
 "nbformat_minor": 4
}
